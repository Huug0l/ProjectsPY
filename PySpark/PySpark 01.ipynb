{
  "cells": [
    {
      "cell_type": "markdown",
      "id": "0c0f1d39",
      "metadata": {
        "id": "0c0f1d39"
      },
      "source": [
        "# PySpark # 1"
      ]
    },
    {
      "cell_type": "markdown",
      "id": "5af0fb34",
      "metadata": {
        "id": "5af0fb34"
      },
      "source": [
        "##### Índice:\n",
        "\n",
        "    # Instalação PySpark\n",
        "    # Importação bibliotecas / funções\n",
        "    # Criar Sessão PySpark\n",
        "    # Criar DF / ler arquivo\n",
        "    # Exibir DF\n",
        "    # Verificar tipos de colunas\n",
        "    # Verificando dados nulos\n",
        "    # Selecionar Colunas\n",
        "    # Selecionar Colunas com ALIAS\n",
        "    # Organizar Select\n",
        "    # Filtrar DF\n",
        "    # Filtrar DF com 2 ou mais condições (AND / &)\n",
        "    # Filtrar DF com 2 ou mais condições (OR / |)\n",
        "    # Filtrar DF combinando & e | (And e OR)\n",
        "    # Criar novas colunas (usando função lit)\n",
        "    # Criar coluna condicional (usando função substring)\n",
        "    # Criar coluna condicional (usando função concat_ws)\n",
        "    # Renomear Colunas\n",
        "    # Alterar tipo de coluna\n",
        "    # Desafio: Transformar coluna em tipo data"
      ]
    },
    {
      "cell_type": "code",
      "execution_count": null,
      "id": "815f2763",
      "metadata": {
        "id": "815f2763"
      },
      "outputs": [],
      "source": [
        "# conda install -c conda-forge pyspark"
      ]
    },
    {
      "cell_type": "markdown",
      "id": "97607fd7",
      "metadata": {
        "id": "97607fd7"
      },
      "source": [
        "##### Instalação PySpark - Conda"
      ]
    },
    {
      "cell_type": "code",
      "execution_count": 11,
      "id": "a2a93c4c",
      "metadata": {
        "id": "a2a93c4c",
        "outputId": "9a7eba44-010e-4be7-c367-9b82ebfa250b",
        "colab": {
          "base_uri": "https://localhost:8080/"
        }
      },
      "outputs": [
        {
          "output_type": "stream",
          "name": "stdout",
          "text": [
            "Looking in indexes: https://pypi.org/simple, https://us-python.pkg.dev/colab-wheels/public/simple/\n",
            "Collecting pyspark\n",
            "  Downloading pyspark-3.2.1.tar.gz (281.4 MB)\n",
            "\u001b[K     |████████████████████████████████| 281.4 MB 37 kB/s \n",
            "\u001b[?25hCollecting py4j==0.10.9.3\n",
            "  Downloading py4j-0.10.9.3-py2.py3-none-any.whl (198 kB)\n",
            "\u001b[K     |████████████████████████████████| 198 kB 53.6 MB/s \n",
            "\u001b[?25hBuilding wheels for collected packages: pyspark\n",
            "  Building wheel for pyspark (setup.py) ... \u001b[?25l\u001b[?25hdone\n",
            "  Created wheel for pyspark: filename=pyspark-3.2.1-py2.py3-none-any.whl size=281853642 sha256=5e8e4507b535885656aded499604666d2dabc98cb1a3891e88ff74d1189be457\n",
            "  Stored in directory: /root/.cache/pip/wheels/9f/f5/07/7cd8017084dce4e93e84e92efd1e1d5334db05f2e83bcef74f\n",
            "Successfully built pyspark\n",
            "Installing collected packages: py4j, pyspark\n",
            "Successfully installed py4j-0.10.9.3 pyspark-3.2.1\n"
          ]
        }
      ],
      "source": [
        "pip install pyspark"
      ]
    },
    {
      "cell_type": "markdown",
      "id": "c5050fd8",
      "metadata": {
        "id": "c5050fd8"
      },
      "source": [
        "##### Importação bibliotecas / funções"
      ]
    },
    {
      "cell_type": "code",
      "execution_count": 12,
      "id": "201c4760",
      "metadata": {
        "id": "201c4760"
      },
      "outputs": [],
      "source": [
        "import os\n",
        "import sys\n",
        "\n",
        "os.environ['PYSPARK_PYTHON'] = sys.executable\n",
        "os.environ['PYSPARK_DRIVER_PYTHON'] = sys.executable\n",
        "\n",
        "# Resolver problema de versão Python x Pyspark workers\n",
        "\n",
        "# Somente usar esse bloco de código, caso esteja usando o Jupyter Notebook e aparecer erro\n",
        "# de incompatibilidade de versão ao tentar usar a função lambda\n",
        "# Caso apareça o erro e você já estiver no final do estudo, reinicie o ambiente e rode esse bloco."
      ]
    },
    {
      "cell_type": "code",
      "execution_count": 13,
      "id": "52691398",
      "metadata": {
        "id": "52691398"
      },
      "outputs": [],
      "source": [
        "from pyspark.sql import SparkSession\n",
        "\n",
        "from pyspark.sql.functions import *\n",
        "\n",
        "from pyspark.sql.types import *"
      ]
    },
    {
      "cell_type": "markdown",
      "id": "55dba21c",
      "metadata": {
        "id": "55dba21c"
      },
      "source": [
        "##### Criar / Iniciar Sessão PySpark"
      ]
    },
    {
      "cell_type": "code",
      "execution_count": 14,
      "id": "8752e978",
      "metadata": {
        "id": "8752e978"
      },
      "outputs": [],
      "source": [
        "spark = (\n",
        "    SparkSession.builder\n",
        "    .master('local')\n",
        "    .appName('PySpark_01')\n",
        "    .getOrCreate()\n",
        ")"
      ]
    },
    {
      "cell_type": "markdown",
      "id": "8243c56d",
      "metadata": {
        "id": "8243c56d"
      },
      "source": [
        "##### Criar DF / ler arquivo\n",
        "##### Header = Trazer o cabecalho\n",
        "##### inferSchema = Olha os dados das colunas e determina o tipo do dado , boolean, int, float "
      ]
    },
    {
      "cell_type": "code",
      "execution_count": 22,
      "id": "9e0eb2a2",
      "metadata": {
        "id": "9e0eb2a2"
      },
      "outputs": [],
      "source": [
        "df = spark.read.csv('wc2018-players.csv', header=True, inferSchema=True)\n"
      ]
    },
    {
      "cell_type": "markdown",
      "id": "ad4c97e1",
      "metadata": {
        "id": "ad4c97e1"
      },
      "source": [
        "##### Exibir DF"
      ]
    },
    {
      "cell_type": "code",
      "execution_count": 23,
      "id": "18697fe5",
      "metadata": {
        "id": "18697fe5",
        "outputId": "7f9337bb-ff69-4123-97ac-20761e044997",
        "colab": {
          "base_uri": "https://localhost:8080/"
        }
      },
      "outputs": [
        {
          "output_type": "stream",
          "name": "stdout",
          "text": [
            "+---------+---+----+------------------+----------+----------+--------------------+------+------+\n",
            "|     Team|  #|Pos.| FIFA Popular Name|Birth Date|Shirt Name|                Club|Height|Weight|\n",
            "+---------+---+----+------------------+----------+----------+--------------------+------+------+\n",
            "|Argentina|  3|  DF|TAGLIAFICO Nicolas|31.08.1992|TAGLIAFICO|      AFC Ajax (NED)|   169|    65|\n",
            "|Argentina| 22|  MF|    PAVON Cristian|21.01.1996|     PAVÓN|CA Boca Juniors (...|   169|    65|\n",
            "|Argentina| 15|  MF|    LANZINI Manuel|15.02.1993|   LANZINI|West Ham United F...|   167|    66|\n",
            "|Argentina| 18|  DF|    SALVIO Eduardo|13.07.1990|    SALVIO|    SL Benfica (POR)|   167|    69|\n",
            "|Argentina| 10|  FW|      MESSI Lionel|24.06.1987|     MESSI|  FC Barcelona (ESP)|   170|    72|\n",
            "+---------+---+----+------------------+----------+----------+--------------------+------+------+\n",
            "only showing top 5 rows\n",
            "\n"
          ]
        }
      ],
      "source": [
        "df.show(5)\n",
        "# show = para mostrar \"X\" linhas do arquivo"
      ]
    },
    {
      "cell_type": "markdown",
      "id": "71dd0f84",
      "metadata": {
        "id": "71dd0f84"
      },
      "source": [
        "##### Verificar tipos de colunas"
      ]
    },
    {
      "cell_type": "code",
      "execution_count": 24,
      "id": "910739dc",
      "metadata": {
        "id": "910739dc",
        "outputId": "81d57401-869e-41c4-e2e8-feca69975ce1",
        "colab": {
          "base_uri": "https://localhost:8080/"
        }
      },
      "outputs": [
        {
          "output_type": "stream",
          "name": "stdout",
          "text": [
            "root\n",
            " |-- Team: string (nullable = true)\n",
            " |-- #: integer (nullable = true)\n",
            " |-- Pos.: string (nullable = true)\n",
            " |-- FIFA Popular Name: string (nullable = true)\n",
            " |-- Birth Date: string (nullable = true)\n",
            " |-- Shirt Name: string (nullable = true)\n",
            " |-- Club: string (nullable = true)\n",
            " |-- Height: integer (nullable = true)\n",
            " |-- Weight: integer (nullable = true)\n",
            "\n"
          ]
        }
      ],
      "source": [
        "df.printSchema()"
      ]
    },
    {
      "cell_type": "markdown",
      "id": "66d5b136",
      "metadata": {
        "id": "66d5b136"
      },
      "source": [
        "##### Verificando dados nulos"
      ]
    },
    {
      "cell_type": "code",
      "execution_count": 25,
      "id": "6488908e",
      "metadata": {
        "id": "6488908e",
        "outputId": "2c6f3b00-e219-4e3d-ab6b-684154f2dbb7",
        "colab": {
          "base_uri": "https://localhost:8080/"
        }
      },
      "outputs": [
        {
          "output_type": "execute_result",
          "data": {
            "text/plain": [
              "Team                 0\n",
              "#                    0\n",
              "Pos.                 0\n",
              "FIFA Popular Name    0\n",
              "Birth Date           0\n",
              "Shirt Name           0\n",
              "Club                 0\n",
              "Height               0\n",
              "Weight               0\n",
              "dtype: int64"
            ]
          },
          "metadata": {},
          "execution_count": 25
        }
      ],
      "source": [
        "df.toPandas().isna().sum()"
      ]
    },
    {
      "cell_type": "code",
      "execution_count": 26,
      "id": "e03268d7",
      "metadata": {
        "id": "e03268d7"
      },
      "outputs": [],
      "source": [
        "# for coluna in df.columns:\n",
        "#     print(coluna, df.filter(df[coluna].isNull()).count())\n",
        "\n",
        "# Aparece mensagem de erro referente a coluna \"Pos.\", devido a ter \" . \" no nome.\n",
        "# Deixei em comentário para não atrapalhar o estudo."
      ]
    },
    {
      "cell_type": "markdown",
      "id": "10f57c14",
      "metadata": {
        "id": "10f57c14"
      },
      "source": [
        "##### Renomeando Colunas"
      ]
    },
    {
      "cell_type": "code",
      "execution_count": 27,
      "id": "994ddb28",
      "metadata": {
        "id": "994ddb28",
        "outputId": "a3055f86-c80e-49e3-8921-c9af9a778c7f",
        "colab": {
          "base_uri": "https://localhost:8080/"
        }
      },
      "outputs": [
        {
          "output_type": "stream",
          "name": "stdout",
          "text": [
            "+---------+------+-------+------------------+----------+-------------+--------------------+------+----+\n",
            "|  Selecao|Numero|Posicao|         Nome_FIFA|Nascimento|Nome Camiseta|                Time|Altura|Peso|\n",
            "+---------+------+-------+------------------+----------+-------------+--------------------+------+----+\n",
            "|Argentina|     3|     DF|TAGLIAFICO Nicolas|31.08.1992|   TAGLIAFICO|      AFC Ajax (NED)|   169|  65|\n",
            "|Argentina|    22|     MF|    PAVON Cristian|21.01.1996|        PAVÓN|CA Boca Juniors (...|   169|  65|\n",
            "|Argentina|    15|     MF|    LANZINI Manuel|15.02.1993|      LANZINI|West Ham United F...|   167|  66|\n",
            "|Argentina|    18|     DF|    SALVIO Eduardo|13.07.1990|       SALVIO|    SL Benfica (POR)|   167|  69|\n",
            "|Argentina|    10|     FW|      MESSI Lionel|24.06.1987|        MESSI|  FC Barcelona (ESP)|   170|  72|\n",
            "+---------+------+-------+------------------+----------+-------------+--------------------+------+----+\n",
            "only showing top 5 rows\n",
            "\n"
          ]
        }
      ],
      "source": [
        "df = df.withColumnRenamed('Team', 'Selecao').withColumnRenamed('#', 'Numero').withColumnRenamed('Pos.', 'Posicao')\\\n",
        ".withColumnRenamed('FIFA Popular Name', 'Nome_FIFA').withColumnRenamed('Birth Date', 'Nascimento')\\\n",
        ".withColumnRenamed('Shirt Name', 'Nome Camiseta').withColumnRenamed('Club', 'Time').withColumnRenamed('Height', 'Altura')\\\n",
        ".withColumnRenamed('Weight', 'Peso')\n",
        "\n",
        "df.show(5)"
      ]
    },
    {
      "cell_type": "code",
      "execution_count": 28,
      "id": "549c4c58",
      "metadata": {
        "id": "549c4c58",
        "outputId": "19fa9782-3dca-40e2-be7e-37d0b09a0ea0",
        "colab": {
          "base_uri": "https://localhost:8080/"
        }
      },
      "outputs": [
        {
          "output_type": "execute_result",
          "data": {
            "text/plain": [
              "['Selecao',\n",
              " 'Numero',\n",
              " 'Posicao',\n",
              " 'Nome_FIFA',\n",
              " 'Nascimento',\n",
              " 'Nome Camiseta',\n",
              " 'Time',\n",
              " 'Altura',\n",
              " 'Peso']"
            ]
          },
          "metadata": {},
          "execution_count": 28
        }
      ],
      "source": [
        "df.columns"
      ]
    },
    {
      "cell_type": "code",
      "execution_count": 30,
      "id": "15e95691",
      "metadata": {
        "id": "15e95691",
        "outputId": "f7f248be-519d-4083-f53e-e63a82a2168f",
        "colab": {
          "base_uri": "https://localhost:8080/"
        }
      },
      "outputs": [
        {
          "output_type": "stream",
          "name": "stdout",
          "text": [
            "Selecao 0\n",
            "Numero 0\n",
            "Posicao 0\n",
            "Nome_FIFA 0\n",
            "Nascimento 0\n",
            "Nome Camiseta 0\n",
            "Time 0\n",
            "Altura 0\n",
            "Peso 0\n"
          ]
        }
      ],
      "source": [
        "for coluna in df.columns:\n",
        "    print(coluna, df.filter(df[coluna].isNull()).count())"
      ]
    },
    {
      "cell_type": "markdown",
      "id": "52160055",
      "metadata": {
        "id": "52160055"
      },
      "source": [
        "##### Selecionar Colunas"
      ]
    },
    {
      "cell_type": "code",
      "execution_count": 31,
      "id": "f3b31788",
      "metadata": {
        "id": "f3b31788",
        "outputId": "89f8f742-a577-4596-e512-778445b25b86",
        "colab": {
          "base_uri": "https://localhost:8080/"
        }
      },
      "outputs": [
        {
          "output_type": "stream",
          "name": "stdout",
          "text": [
            "+---------+------------------+\n",
            "|  Selecao|         NOME_FIFA|\n",
            "+---------+------------------+\n",
            "|Argentina|TAGLIAFICO Nicolas|\n",
            "|Argentina|    PAVON Cristian|\n",
            "|Argentina|    LANZINI Manuel|\n",
            "|Argentina|    SALVIO Eduardo|\n",
            "|Argentina|      MESSI Lionel|\n",
            "+---------+------------------+\n",
            "only showing top 5 rows\n",
            "\n"
          ]
        }
      ],
      "source": [
        "df.select('Selecao', 'NOME_FIFA').show(5)"
      ]
    },
    {
      "cell_type": "code",
      "execution_count": 33,
      "id": "4f13aefe",
      "metadata": {
        "id": "4f13aefe",
        "outputId": "99be4609-492d-40cc-d618-eb3ae5e4c9d2",
        "colab": {
          "base_uri": "https://localhost:8080/"
        }
      },
      "outputs": [
        {
          "output_type": "stream",
          "name": "stdout",
          "text": [
            "+---------+------------------+\n",
            "|  Selecao|         NOME_FIFA|\n",
            "+---------+------------------+\n",
            "|Argentina|TAGLIAFICO Nicolas|\n",
            "|Argentina|    PAVON Cristian|\n",
            "|Argentina|    LANZINI Manuel|\n",
            "|Argentina|    SALVIO Eduardo|\n",
            "|Argentina|      MESSI Lionel|\n",
            "+---------+------------------+\n",
            "only showing top 5 rows\n",
            "\n"
          ]
        }
      ],
      "source": [
        "df.select(col('Selecao'), col('NOME_FIFA')).show(5)"
      ]
    },
    {
      "cell_type": "code",
      "execution_count": 37,
      "id": "4c214b79",
      "metadata": {
        "id": "4c214b79",
        "outputId": "1dbbe17a-57cd-4269-8a6b-33b1f3dcdb41",
        "colab": {
          "base_uri": "https://localhost:8080/"
        }
      },
      "outputs": [
        {
          "output_type": "stream",
          "name": "stdout",
          "text": [
            "+---------+\n",
            "|  Selecao|\n",
            "+---------+\n",
            "|Argentina|\n",
            "|Argentina|\n",
            "|Argentina|\n",
            "|Argentina|\n",
            "|Argentina|\n",
            "+---------+\n",
            "only showing top 5 rows\n",
            "\n"
          ]
        }
      ],
      "source": [
        "df.select(df['Selecao']).show(5)"
      ]
    },
    {
      "cell_type": "markdown",
      "id": "85b68fa2",
      "metadata": {
        "id": "85b68fa2"
      },
      "source": [
        "##### Selecionar Colunas com ALIAS"
      ]
    },
    {
      "cell_type": "code",
      "execution_count": 38,
      "id": "94eac6a7",
      "metadata": {
        "id": "94eac6a7",
        "outputId": "5922120c-60f1-4923-b2ec-ba5c37f5a59d",
        "colab": {
          "base_uri": "https://localhost:8080/"
        }
      },
      "outputs": [
        {
          "output_type": "stream",
          "name": "stdout",
          "text": [
            "+---------+\n",
            "|     Time|\n",
            "+---------+\n",
            "|Argentina|\n",
            "|Argentina|\n",
            "|Argentina|\n",
            "|Argentina|\n",
            "|Argentina|\n",
            "+---------+\n",
            "only showing top 5 rows\n",
            "\n"
          ]
        }
      ],
      "source": [
        "df.select(col('Selecao').alias('Time')).show(5)"
      ]
    },
    {
      "cell_type": "code",
      "execution_count": 39,
      "id": "19d84be4",
      "metadata": {
        "id": "19d84be4",
        "outputId": "e57bb13f-1726-45c1-af48-df340d25d4e8",
        "colab": {
          "base_uri": "https://localhost:8080/"
        }
      },
      "outputs": [
        {
          "output_type": "stream",
          "name": "stdout",
          "text": [
            "+---------+------------------+------+\n",
            "|  Selecao|         Nome_FIFA|Altura|\n",
            "+---------+------------------+------+\n",
            "|Argentina|TAGLIAFICO Nicolas|   169|\n",
            "|Argentina|    PAVON Cristian|   169|\n",
            "|Argentina|    LANZINI Manuel|   167|\n",
            "|Argentina|    SALVIO Eduardo|   167|\n",
            "|Argentina|      MESSI Lionel|   170|\n",
            "+---------+------------------+------+\n",
            "only showing top 5 rows\n",
            "\n"
          ]
        }
      ],
      "source": [
        "df.select('Selecao Nome_FIFA Altura'.split()).show(5)"
      ]
    },
    {
      "cell_type": "markdown",
      "id": "0b5227fb",
      "metadata": {
        "id": "0b5227fb"
      },
      "source": [
        "##### Organizar Select"
      ]
    },
    {
      "cell_type": "code",
      "execution_count": 40,
      "id": "d5b53f81",
      "metadata": {
        "id": "d5b53f81",
        "outputId": "4256a885-a485-40a8-a6ae-6cf0a8d97ba7",
        "colab": {
          "base_uri": "https://localhost:8080/"
        }
      },
      "outputs": [
        {
          "output_type": "stream",
          "name": "stdout",
          "text": [
            "+------------------+----+------+\n",
            "|         Nome_Fifa|Peso|Altura|\n",
            "+------------------+----+------+\n",
            "|TAGLIAFICO Nicolas|  65|   169|\n",
            "|    PAVON Cristian|  65|   169|\n",
            "|    LANZINI Manuel|  66|   167|\n",
            "|    SALVIO Eduardo|  69|   167|\n",
            "|      MESSI Lionel|  72|   170|\n",
            "+------------------+----+------+\n",
            "only showing top 5 rows\n",
            "\n"
          ]
        }
      ],
      "source": [
        "df.select('Nome_Fifa', 'Peso', 'Altura').show(5)"
      ]
    },
    {
      "cell_type": "code",
      "execution_count": 41,
      "id": "4e7af3ba",
      "metadata": {
        "id": "4e7af3ba",
        "outputId": "21ca90a7-a4f3-4020-d8ff-51b00b4ddf15",
        "colab": {
          "base_uri": "https://localhost:8080/"
        }
      },
      "outputs": [
        {
          "output_type": "stream",
          "name": "stdout",
          "text": [
            "+---------+------+-------+------------------+----------+-------------+--------------------+------+----+\n",
            "|  Selecao|Numero|Posicao|         Nome_FIFA|Nascimento|Nome Camiseta|                Time|Altura|Peso|\n",
            "+---------+------+-------+------------------+----------+-------------+--------------------+------+----+\n",
            "|Argentina|     3|     DF|TAGLIAFICO Nicolas|31.08.1992|   TAGLIAFICO|      AFC Ajax (NED)|   169|  65|\n",
            "|Argentina|    22|     MF|    PAVON Cristian|21.01.1996|        PAVÓN|CA Boca Juniors (...|   169|  65|\n",
            "|Argentina|    15|     MF|    LANZINI Manuel|15.02.1993|      LANZINI|West Ham United F...|   167|  66|\n",
            "|Argentina|    18|     DF|    SALVIO Eduardo|13.07.1990|       SALVIO|    SL Benfica (POR)|   167|  69|\n",
            "|Argentina|    10|     FW|      MESSI Lionel|24.06.1987|        MESSI|  FC Barcelona (ESP)|   170|  72|\n",
            "+---------+------+-------+------------------+----------+-------------+--------------------+------+----+\n",
            "only showing top 5 rows\n",
            "\n"
          ]
        }
      ],
      "source": [
        "df.show(5)"
      ]
    },
    {
      "cell_type": "markdown",
      "id": "01181868",
      "metadata": {
        "id": "01181868"
      },
      "source": [
        "##### Filtrar DF"
      ]
    },
    {
      "cell_type": "code",
      "execution_count": 42,
      "id": "13df6520",
      "metadata": {
        "id": "13df6520",
        "outputId": "fb90d292-58a0-4205-9f8b-c5e0d1c052be",
        "colab": {
          "base_uri": "https://localhost:8080/"
        }
      },
      "outputs": [
        {
          "output_type": "stream",
          "name": "stdout",
          "text": [
            "+-------+------+-------+-----------------+----------+-------------+--------------------+------+----+\n",
            "|Selecao|Numero|Posicao|        Nome_FIFA|Nascimento|Nome Camiseta|                Time|Altura|Peso|\n",
            "+-------+------+-------+-----------------+----------+-------------+--------------------+------+----+\n",
            "| Brazil|    18|     MF|             FRED|05.03.1993|         FRED|FC Shakhtar Donet...|   169|  64|\n",
            "| Brazil|    21|     FW|           TAISON|13.01.1988|       TAISON|FC Shakhtar Donet...|   172|  64|\n",
            "| Brazil|    17|     MF|      FERNANDINHO|04.05.1985|  FERNANDINHO|Manchester City F...|   179|  67|\n",
            "| Brazil|    22|     DF|           FAGNER|11.06.1989|       FAGNER|SC Corinthians (BRA)|   168|  67|\n",
            "| Brazil|    10|     FW|           NEYMAR|05.02.1992|    NEYMAR JR|Paris Saint-Germa...|   175|  68|\n",
            "| Brazil|    11|     MF|PHILIPPE COUTINHO|12.06.1992|  P. COUTINHO|  FC Barcelona (ESP)|   172|  68|\n",
            "| Brazil|     7|     FW|    DOUGLAS COSTA|14.09.1990|     D. COSTA|   Juventus FC (ITA)|   182|  70|\n",
            "| Brazil|     6|     DF|      FILIPE LUIS|09.08.1985|  FILIPE LUIS|Atletico Madrid (...|   182|  73|\n",
            "| Brazil|     9|     FW|    GABRIEL JESUS|03.04.1997|     G. JESUS|Manchester City F...|   175|  73|\n",
            "| Brazil|    13|     DF|       MARQUINHOS|14.05.1994|   MARQUINHOS|Paris Saint-Germa...|   183|  75|\n",
            "+-------+------+-------+-----------------+----------+-------------+--------------------+------+----+\n",
            "only showing top 10 rows\n",
            "\n"
          ]
        }
      ],
      "source": [
        "df.filter('Selecao = \"Brazil\"').show(10)"
      ]
    },
    {
      "cell_type": "code",
      "execution_count": 43,
      "id": "b505b97c",
      "metadata": {
        "id": "b505b97c",
        "outputId": "a6387820-667f-45b1-9cf2-db6809ca0864",
        "colab": {
          "base_uri": "https://localhost:8080/"
        }
      },
      "outputs": [
        {
          "output_type": "stream",
          "name": "stdout",
          "text": [
            "+-------+------+-------+---------+----------+-------------+--------------------+------+----+\n",
            "|Selecao|Numero|Posicao|Nome_FIFA|Nascimento|Nome Camiseta|                Time|Altura|Peso|\n",
            "+-------+------+-------+---------+----------+-------------+--------------------+------+----+\n",
            "| Brazil|    18|     MF|     FRED|05.03.1993|         FRED|FC Shakhtar Donet...|   169|  64|\n",
            "+-------+------+-------+---------+----------+-------------+--------------------+------+----+\n",
            "\n"
          ]
        }
      ],
      "source": [
        "df.filter(col(\"Nome Camiseta\") == \"FRED\").show()"
      ]
    },
    {
      "cell_type": "markdown",
      "id": "2f771dfb",
      "metadata": {
        "id": "2f771dfb"
      },
      "source": [
        "##### Filtrar DF com 2 condições (AND / &)"
      ]
    },
    {
      "cell_type": "code",
      "execution_count": 44,
      "id": "505e586c",
      "metadata": {
        "id": "505e586c",
        "outputId": "ac0744aa-4572-4e82-e1a4-07a2e6d52043",
        "colab": {
          "base_uri": "https://localhost:8080/"
        }
      },
      "outputs": [
        {
          "output_type": "stream",
          "name": "stdout",
          "text": [
            "+---------+------+-------+------------------+----------+-------------+--------------------+------+----+\n",
            "|  Selecao|Numero|Posicao|         Nome_FIFA|Nascimento|Nome Camiseta|                Time|Altura|Peso|\n",
            "+---------+------+-------+------------------+----------+-------------+--------------------+------+----+\n",
            "|Argentina|     3|     DF|TAGLIAFICO Nicolas|31.08.1992|   TAGLIAFICO|      AFC Ajax (NED)|   169|  65|\n",
            "|Argentina|    22|     MF|    PAVON Cristian|21.01.1996|        PAVÓN|CA Boca Juniors (...|   169|  65|\n",
            "|Argentina|    15|     MF|    LANZINI Manuel|15.02.1993|      LANZINI|West Ham United F...|   167|  66|\n",
            "|Argentina|    18|     DF|    SALVIO Eduardo|13.07.1990|       SALVIO|    SL Benfica (POR)|   167|  69|\n",
            "|Argentina|    10|     FW|      MESSI Lionel|24.06.1987|        MESSI|  FC Barcelona (ESP)|   170|  72|\n",
            "+---------+------+-------+------------------+----------+-------------+--------------------+------+----+\n",
            "only showing top 5 rows\n",
            "\n"
          ]
        }
      ],
      "source": [
        "df.show(5)"
      ]
    },
    {
      "cell_type": "code",
      "execution_count": 48,
      "id": "6e4ee638",
      "metadata": {
        "id": "6e4ee638",
        "outputId": "0f8ced8d-2f90-4220-e691-7a07cf83355f",
        "colab": {
          "base_uri": "https://localhost:8080/"
        }
      },
      "outputs": [
        {
          "output_type": "stream",
          "name": "stdout",
          "text": [
            "+---------+------+-------+------------------+----------+-------------+--------------------+------+----+\n",
            "|  Selecao|Numero|Posicao|         Nome_FIFA|Nascimento|Nome Camiseta|                Time|Altura|Peso|\n",
            "+---------+------+-------+------------------+----------+-------------+--------------------+------+----+\n",
            "|Argentina|    23|     GK|CABALLERO Wilfredo|28.09.1981|    CABALLERO|    Chelsea FC (ENG)|   186|  80|\n",
            "|Argentina|     2|     DF|   MERCADO Gabriel|18.03.1987|      MERCADO|    Sevilla FC (ESP)|   181|  81|\n",
            "|Argentina|    17|     DF|  OTAMENDI Nicolas|12.02.1988|     OTAMENDI|Manchester City F...|   181|  81|\n",
            "|Argentina|    16|     DF|       ROJO Marcos|20.03.1990|         ROJO|Manchester United...|   189|  82|\n",
            "|Argentina|     6|     DF|    FAZIO Federico|17.03.1987|        FAZIO|       AS Roma (ITA)|   199|  85|\n",
            "|Argentina|    12|     GK|     ARMANI Franco|16.10.1986|       ARMANI|CA River Plate (ARG)|   189|  85|\n",
            "|Argentina|     1|     GK|     GUZMAN Nahuel|10.02.1986|       GUZMÁN|   Tigres UANL (MEX)|   192|  90|\n",
            "+---------+------+-------+------------------+----------+-------------+--------------------+------+----+\n",
            "\n"
          ]
        }
      ],
      "source": [
        "df.filter((col('Selecao') == \"Argentina\") & (col('Altura') >= 170) & (col('Peso') >= 80)).show()"
      ]
    },
    {
      "cell_type": "code",
      "execution_count": 51,
      "id": "2967e60a",
      "metadata": {
        "id": "2967e60a",
        "outputId": "cebc13dd-dcd0-4ea3-c65c-13a26c997cbf",
        "colab": {
          "base_uri": "https://localhost:8080/"
        }
      },
      "outputs": [
        {
          "output_type": "stream",
          "name": "stdout",
          "text": [
            "+-------+------+-------+---------------+----------+-------------+--------------------+------+----+\n",
            "|Selecao|Numero|Posicao|      Nome_FIFA|Nascimento|Nome Camiseta|                Time|Altura|Peso|\n",
            "+-------+------+-------+---------------+----------+-------------+--------------------+------+----+\n",
            "| Brazil|    18|     MF|           FRED|05.03.1993|         FRED|FC Shakhtar Donet...|   169|  64|\n",
            "| Brazil|    21|     FW|         TAISON|13.01.1988|       TAISON|FC Shakhtar Donet...|   172|  64|\n",
            "| Brazil|    17|     MF|    FERNANDINHO|04.05.1985|  FERNANDINHO|Manchester City F...|   179|  67|\n",
            "| Brazil|    22|     DF|         FAGNER|11.06.1989|       FAGNER|SC Corinthians (BRA)|   168|  67|\n",
            "| Brazil|    20|     FW|ROBERTO FIRMINO|02.10.1991|      FIRMINO|  Liverpool FC (ENG)|   181|  76|\n",
            "| Brazil|    19|     MF|        WILLIAN|09.08.1988|      WILLIAN|    Chelsea FC (ENG)|   175|  77|\n",
            "| Brazil|    23|     GK|        EDERSON|17.08.1993|      EDERSON|Manchester City F...|   188|  86|\n",
            "| Brazil|    16|     GK|         CASSIO|06.06.1987|       CASSIO|SC Corinthians (BRA)|   195|  92|\n",
            "+-------+------+-------+---------------+----------+-------------+--------------------+------+----+\n",
            "\n"
          ]
        }
      ],
      "source": [
        "df.filter('Selecao = \"Brazil\"').filter(col('Numero') > 15).show(10)"
      ]
    },
    {
      "cell_type": "markdown",
      "id": "ddadf23d",
      "metadata": {
        "id": "ddadf23d"
      },
      "source": [
        "##### Filtrar DF com 2 condições (OR / |)"
      ]
    },
    {
      "cell_type": "code",
      "execution_count": 52,
      "id": "3c79b14f",
      "metadata": {
        "id": "3c79b14f",
        "outputId": "dcc6e826-fa32-486e-8a91-d6a0806f9798",
        "colab": {
          "base_uri": "https://localhost:8080/"
        }
      },
      "outputs": [
        {
          "output_type": "stream",
          "name": "stdout",
          "text": [
            "+---------+------+-------+----------------+----------+-------------+------------------+------+----+\n",
            "|  Selecao|Numero|Posicao|       Nome_FIFA|Nascimento|Nome Camiseta|              Time|Altura|Peso|\n",
            "+---------+------+-------+----------------+----------+-------------+------------------+------+----+\n",
            "|Argentina|    18|     DF|  SALVIO Eduardo|13.07.1990|       SALVIO|  SL Benfica (POR)|   167|  69|\n",
            "|Argentina|    10|     FW|    MESSI Lionel|24.06.1987|        MESSI|FC Barcelona (ESP)|   170|  72|\n",
            "|Argentina|     6|     DF|  FAZIO Federico|17.03.1987|        FAZIO|     AS Roma (ITA)|   199|  85|\n",
            "|  Belgium|     1|     GK|COURTOIS Thibaut|11.05.1992|     COURTOIS|  Chelsea FC (ENG)|   199|  91|\n",
            "+---------+------+-------+----------------+----------+-------------+------------------+------+----+\n",
            "\n"
          ]
        }
      ],
      "source": [
        "df.filter((col('Nome_FIFA') == 'MESSI Lionel') | (col('Nome_FIFA') == 'SALVIO Eduardo') | (col('Altura') == 199)).show(5)"
      ]
    },
    {
      "cell_type": "markdown",
      "id": "15acc5c6",
      "metadata": {
        "id": "15acc5c6"
      },
      "source": [
        "##### Filtrar DF combinando & e | (And e OR)"
      ]
    },
    {
      "cell_type": "code",
      "execution_count": 53,
      "id": "f93c257a",
      "metadata": {
        "scrolled": true,
        "id": "f93c257a",
        "outputId": "04b89d5e-3d4a-4661-fede-a90e010838a2",
        "colab": {
          "base_uri": "https://localhost:8080/"
        }
      },
      "outputs": [
        {
          "output_type": "stream",
          "name": "stdout",
          "text": [
            "+-------+------+-------+----------------+----------+-------------+--------------------+------+----+\n",
            "|Selecao|Numero|Posicao|       Nome_FIFA|Nascimento|Nome Camiseta|                Time|Altura|Peso|\n",
            "+-------+------+-------+----------------+----------+-------------+--------------------+------+----+\n",
            "|Belgium|     1|     GK|COURTOIS Thibaut|11.05.1992|     COURTOIS|    Chelsea FC (ENG)|   199|  91|\n",
            "| Brazil|    22|     DF|          FAGNER|11.06.1989|       FAGNER|SC Corinthians (BRA)|   168|  67|\n",
            "| Brazil|     6|     DF|     FILIPE LUIS|09.08.1985|  FILIPE LUIS|Atletico Madrid (...|   182|  73|\n",
            "| Brazil|    13|     DF|      MARQUINHOS|14.05.1994|   MARQUINHOS|Paris Saint-Germa...|   183|  75|\n",
            "| Brazil|     3|     DF|         MIRANDA|07.09.1984|      MIRANDA|FC Internazionale...|   186|  78|\n",
            "| Brazil|    14|     DF|          DANILO|15.07.1991|       DANILO|Manchester City F...|   184|  78|\n",
            "| Brazil|     2|     DF|    THIAGO SILVA|22.09.1984|     T. SILVA|Paris Saint-Germa...|   183|  79|\n",
            "| Brazil|    12|     DF|         MARCELO|12.05.1988|      MARCELO|Real Madrid CF (ESP)|   174|  80|\n",
            "| Brazil|     4|     DF|   PEDRO GEROMEL|21.09.1985|      GEROMEL|   Grêmio FBPA (BRA)|   190|  84|\n",
            "+-------+------+-------+----------------+----------+-------------+--------------------+------+----+\n",
            "\n"
          ]
        }
      ],
      "source": [
        "df.filter((col('Selecao') == \"Brazil\") & (col('Posicao') == 'DF') | (col('Altura') == 199) & (col('Selecao') == 'Belgium')).show()"
      ]
    },
    {
      "cell_type": "markdown",
      "id": "3790ec6d",
      "metadata": {
        "id": "3790ec6d"
      },
      "source": [
        "##### Criar novas colunas (usando função lit)"
      ]
    },
    {
      "cell_type": "code",
      "execution_count": 54,
      "id": "cc901429",
      "metadata": {
        "id": "cc901429",
        "outputId": "27fea4da-1f1a-40b3-d8c7-9c1db1beab2d",
        "colab": {
          "base_uri": "https://localhost:8080/"
        }
      },
      "outputs": [
        {
          "output_type": "stream",
          "name": "stdout",
          "text": [
            "+---------+------+-------+------------------+----------+-------------+--------------------+------+----+-----------+\n",
            "|  Selecao|Numero|Posicao|         Nome_FIFA|Nascimento|Nome Camiseta|                Time|Altura|Peso|coluna_nova|\n",
            "+---------+------+-------+------------------+----------+-------------+--------------------+------+----+-----------+\n",
            "|Argentina|     3|     DF|TAGLIAFICO Nicolas|31.08.1992|   TAGLIAFICO|      AFC Ajax (NED)|   169|  65|        104|\n",
            "|Argentina|    22|     MF|    PAVON Cristian|21.01.1996|        PAVÓN|CA Boca Juniors (...|   169|  65|        104|\n",
            "|Argentina|    15|     MF|    LANZINI Manuel|15.02.1993|      LANZINI|West Ham United F...|   167|  66|        101|\n",
            "|Argentina|    18|     DF|    SALVIO Eduardo|13.07.1990|       SALVIO|    SL Benfica (POR)|   167|  69|         98|\n",
            "|Argentina|    10|     FW|      MESSI Lionel|24.06.1987|        MESSI|  FC Barcelona (ESP)|   170|  72|         98|\n",
            "+---------+------+-------+------------------+----------+-------------+--------------------+------+----+-----------+\n",
            "only showing top 5 rows\n",
            "\n"
          ]
        }
      ],
      "source": [
        "df.withColumn('coluna_nova', lit(col('Altura') - col('Peso'))).show(5)"
      ]
    },
    {
      "cell_type": "markdown",
      "id": "37ac569d",
      "metadata": {
        "id": "37ac569d"
      },
      "source": [
        "##### Criar coluna condicional (usando função substring)"
      ]
    },
    {
      "cell_type": "code",
      "execution_count": 55,
      "id": "c7f8e583",
      "metadata": {
        "id": "c7f8e583",
        "outputId": "9e2a87dd-8f3e-4faf-808b-1c9ee81da7e9",
        "colab": {
          "base_uri": "https://localhost:8080/"
        }
      },
      "outputs": [
        {
          "output_type": "stream",
          "name": "stdout",
          "text": [
            "+---------+------+-------+------------------+----------+-------------+--------------------+------+----+---+\n",
            "|  Selecao|Numero|Posicao|         Nome_FIFA|Nascimento|Nome Camiseta|                Time|Altura|Peso|Sub|\n",
            "+---------+------+-------+------------------+----------+-------------+--------------------+------+----+---+\n",
            "|Argentina|     3|     DF|TAGLIAFICO Nicolas|31.08.1992|   TAGLIAFICO|      AFC Ajax (NED)|   169|  65|ina|\n",
            "|Argentina|    22|     MF|    PAVON Cristian|21.01.1996|        PAVÓN|CA Boca Juniors (...|   169|  65|ina|\n",
            "|Argentina|    15|     MF|    LANZINI Manuel|15.02.1993|      LANZINI|West Ham United F...|   167|  66|ina|\n",
            "|Argentina|    18|     DF|    SALVIO Eduardo|13.07.1990|       SALVIO|    SL Benfica (POR)|   167|  69|ina|\n",
            "|Argentina|    10|     FW|      MESSI Lionel|24.06.1987|        MESSI|  FC Barcelona (ESP)|   170|  72|ina|\n",
            "+---------+------+-------+------------------+----------+-------------+--------------------+------+----+---+\n",
            "only showing top 5 rows\n",
            "\n"
          ]
        }
      ],
      "source": [
        "df.withColumn('Sub', substring('Selecao', -3, 3)).show(5)"
      ]
    },
    {
      "cell_type": "code",
      "execution_count": null,
      "id": "973a4e62",
      "metadata": {
        "id": "973a4e62",
        "outputId": "25943974-4c37-44da-aa24-138cbf21f933"
      },
      "outputs": [
        {
          "name": "stdout",
          "output_type": "stream",
          "text": [
            "+---------+------+-------+------------------+----------+-------------+--------------------+------+----+\n",
            "|  Selecao|Numero|Posicao|         Nome_FIFA|Nascimento|Nome Camiseta|                Time|Altura|Peso|\n",
            "+---------+------+-------+------------------+----------+-------------+--------------------+------+----+\n",
            "|Argentina|     3|     DF|TAGLIAFICO Nicolas|31.08.1992|   TAGLIAFICO|      AFC Ajax (NED)|   169|  65|\n",
            "|Argentina|    22|     MF|    PAVON Cristian|21.01.1996|        PAVÓN|CA Boca Juniors (...|   169|  65|\n",
            "|Argentina|    15|     MF|    LANZINI Manuel|15.02.1993|      LANZINI|West Ham United F...|   167|  66|\n",
            "|Argentina|    18|     DF|    SALVIO Eduardo|13.07.1990|       SALVIO|    SL Benfica (POR)|   167|  69|\n",
            "|Argentina|    10|     FW|      MESSI Lionel|24.06.1987|        MESSI|  FC Barcelona (ESP)|   170|  72|\n",
            "|Argentina|     4|     DF|  ANSALDI Cristian|20.09.1986|      ANSALDI|     Torino FC (ITA)|   181|  73|\n",
            "|Argentina|     5|     MF|      BIGLIA Lucas|30.01.1986|       BIGLIA|      AC Milan (ITA)|   175|  73|\n",
            "|Argentina|     7|     MF|       BANEGA Ever|29.06.1988|       BANEGA|    Sevilla FC (ESP)|   175|  73|\n",
            "|Argentina|    14|     DF| MASCHERANO Javier|08.06.1984|   MASCHERANO|Hebei China Fortu...|   174|  73|\n",
            "|Argentina|    21|     FW|      DYBALA Paulo|15.11.1993|       DYBALA|   Juventus FC (ITA)|   177|  73|\n",
            "|Argentina|    19|     FW|     AGUERO Sergio|02.06.1988|       AGÜERO|Manchester City F...|   172|  74|\n",
            "|Argentina|     9|     FW|   HIGUAIN Gonzalo|10.12.1987|      HIGUAÍN|   Juventus FC (ITA)|   184|  75|\n",
            "|Argentina|    11|     MF|    DI MARIA Angel|14.02.1988|     DI MARÍA|Paris Saint-Germa...|   178|  75|\n",
            "|Argentina|    20|     MF|  LO CELSO Giovani|09.04.1996|     LO CELSO|Paris Saint-Germa...|   177|  75|\n",
            "|Argentina|    13|     MF|  MEZA Maximiliano|15.12.1992|         MEZA|CA Independiente ...|   180|  76|\n",
            "|Argentina|     8|     DF|      ACUNA Marcos|28.10.1991|        ACUÑA|   Sporting CP (POR)|   172|  77|\n",
            "|Argentina|    23|     GK|CABALLERO Wilfredo|28.09.1981|    CABALLERO|    Chelsea FC (ENG)|   186|  80|\n",
            "|Argentina|     2|     DF|   MERCADO Gabriel|18.03.1987|      MERCADO|    Sevilla FC (ESP)|   181|  81|\n",
            "|Argentina|    17|     DF|  OTAMENDI Nicolas|12.02.1988|     OTAMENDI|Manchester City F...|   181|  81|\n",
            "|Argentina|    16|     DF|       ROJO Marcos|20.03.1990|         ROJO|Manchester United...|   189|  82|\n",
            "+---------+------+-------+------------------+----------+-------------+--------------------+------+----+\n",
            "only showing top 20 rows\n",
            "\n"
          ]
        }
      ],
      "source": [
        "df.show()"
      ]
    },
    {
      "cell_type": "code",
      "execution_count": null,
      "id": "d9be0394",
      "metadata": {
        "id": "d9be0394"
      },
      "outputs": [],
      "source": [
        "df = df.withColumn('Ano', substring('Nascimento', -4, 4))"
      ]
    },
    {
      "cell_type": "code",
      "execution_count": null,
      "id": "95e89064",
      "metadata": {
        "id": "95e89064",
        "outputId": "d2f2e411-34c1-4104-d2dc-997247bc9554"
      },
      "outputs": [
        {
          "name": "stdout",
          "output_type": "stream",
          "text": [
            "+---------+------+-------+------------------+----------+-------------+--------------------+------+----+----+\n",
            "|  Selecao|Numero|Posicao|         Nome_FIFA|Nascimento|Nome Camiseta|                Time|Altura|Peso| Ano|\n",
            "+---------+------+-------+------------------+----------+-------------+--------------------+------+----+----+\n",
            "|Argentina|     3|     DF|TAGLIAFICO Nicolas|31.08.1992|   TAGLIAFICO|      AFC Ajax (NED)|   169|  65|1992|\n",
            "|Argentina|    22|     MF|    PAVON Cristian|21.01.1996|        PAVÓN|CA Boca Juniors (...|   169|  65|1996|\n",
            "|Argentina|    15|     MF|    LANZINI Manuel|15.02.1993|      LANZINI|West Ham United F...|   167|  66|1993|\n",
            "|Argentina|    18|     DF|    SALVIO Eduardo|13.07.1990|       SALVIO|    SL Benfica (POR)|   167|  69|1990|\n",
            "|Argentina|    10|     FW|      MESSI Lionel|24.06.1987|        MESSI|  FC Barcelona (ESP)|   170|  72|1987|\n",
            "+---------+------+-------+------------------+----------+-------------+--------------------+------+----+----+\n",
            "only showing top 5 rows\n",
            "\n"
          ]
        }
      ],
      "source": [
        "df.show(5)"
      ]
    },
    {
      "cell_type": "markdown",
      "id": "9d982126",
      "metadata": {
        "id": "9d982126"
      },
      "source": [
        "##### Criar coluna condicional (concat / concat_ws)"
      ]
    },
    {
      "cell_type": "code",
      "execution_count": null,
      "id": "bc17a0d7",
      "metadata": {
        "id": "bc17a0d7",
        "outputId": "fe6b7938-2289-406e-e486-9568336bf98f"
      },
      "outputs": [
        {
          "name": "stdout",
          "output_type": "stream",
          "text": [
            "+---------+------+-------+------------------+----------+-------------+--------------------+------+----+----+-------------------+\n",
            "|  Selecao|Numero|Posicao|         Nome_FIFA|Nascimento|Nome Camiseta|                Time|Altura|Peso| Ano|             Concat|\n",
            "+---------+------+-------+------------------+----------+-------------+--------------------+------+----+----+-------------------+\n",
            "|Argentina|     3|     DF|TAGLIAFICO Nicolas|31.08.1992|   TAGLIAFICO|      AFC Ajax (NED)|   169|  65|1992|ArgentinaTAGLIAFICO|\n",
            "|Argentina|    22|     MF|    PAVON Cristian|21.01.1996|        PAVÓN|CA Boca Juniors (...|   169|  65|1996|     ArgentinaPAVÓN|\n",
            "|Argentina|    15|     MF|    LANZINI Manuel|15.02.1993|      LANZINI|West Ham United F...|   167|  66|1993|   ArgentinaLANZINI|\n",
            "|Argentina|    18|     DF|    SALVIO Eduardo|13.07.1990|       SALVIO|    SL Benfica (POR)|   167|  69|1990|    ArgentinaSALVIO|\n",
            "|Argentina|    10|     FW|      MESSI Lionel|24.06.1987|        MESSI|  FC Barcelona (ESP)|   170|  72|1987|     ArgentinaMESSI|\n",
            "+---------+------+-------+------------------+----------+-------------+--------------------+------+----+----+-------------------+\n",
            "only showing top 5 rows\n",
            "\n"
          ]
        }
      ],
      "source": [
        "df.withColumn('Concat', concat('Selecao', col('Nome Camiseta'))).show(5)"
      ]
    },
    {
      "cell_type": "code",
      "execution_count": null,
      "id": "e71eea32",
      "metadata": {
        "id": "e71eea32",
        "outputId": "417b9628-730b-4d0d-da64-357e415b09a1"
      },
      "outputs": [
        {
          "name": "stdout",
          "output_type": "stream",
          "text": [
            "+---------+------+-------+------------------+----------+-------------+--------------------+------+----+----+-------------------+\n",
            "|  Selecao|Numero|Posicao|         Nome_FIFA|Nascimento|Nome Camiseta|                Time|Altura|Peso| Ano|          Separador|\n",
            "+---------+------+-------+------------------+----------+-------------+--------------------+------+----+----+-------------------+\n",
            "|Argentina|     3|     DF|TAGLIAFICO Nicolas|31.08.1992|   TAGLIAFICO|      AFC Ajax (NED)|   169|  65|1992| Argentina - 3 - DF|\n",
            "|Argentina|    22|     MF|    PAVON Cristian|21.01.1996|        PAVÓN|CA Boca Juniors (...|   169|  65|1996|Argentina - 22 - MF|\n",
            "|Argentina|    15|     MF|    LANZINI Manuel|15.02.1993|      LANZINI|West Ham United F...|   167|  66|1993|Argentina - 15 - MF|\n",
            "|Argentina|    18|     DF|    SALVIO Eduardo|13.07.1990|       SALVIO|    SL Benfica (POR)|   167|  69|1990|Argentina - 18 - DF|\n",
            "|Argentina|    10|     FW|      MESSI Lionel|24.06.1987|        MESSI|  FC Barcelona (ESP)|   170|  72|1987|Argentina - 10 - FW|\n",
            "+---------+------+-------+------------------+----------+-------------+--------------------+------+----+----+-------------------+\n",
            "only showing top 5 rows\n",
            "\n"
          ]
        }
      ],
      "source": [
        "df.withColumn('Separador', concat_ws(' - ', 'Selecao', 'Numero', 'Posicao')).show(5)"
      ]
    },
    {
      "cell_type": "markdown",
      "id": "2a3de4ea",
      "metadata": {
        "id": "2a3de4ea"
      },
      "source": [
        "##### Alterar tipo de coluna"
      ]
    },
    {
      "cell_type": "code",
      "execution_count": null,
      "id": "ffae8f1f",
      "metadata": {
        "id": "ffae8f1f",
        "outputId": "2aeab87f-58ce-4ef0-8f16-9d8882cf7eb0"
      },
      "outputs": [
        {
          "name": "stdout",
          "output_type": "stream",
          "text": [
            "+---------+------+-------+------------------+----------+-------------+--------------------+------+----+----+\n",
            "|  Selecao|Numero|Posicao|         Nome_FIFA|Nascimento|Nome Camiseta|                Time|Altura|Peso| Ano|\n",
            "+---------+------+-------+------------------+----------+-------------+--------------------+------+----+----+\n",
            "|Argentina|     3|     DF|TAGLIAFICO Nicolas|31.08.1992|   TAGLIAFICO|      AFC Ajax (NED)|   169|  65|1992|\n",
            "|Argentina|    22|     MF|    PAVON Cristian|21.01.1996|        PAVÓN|CA Boca Juniors (...|   169|  65|1996|\n",
            "|Argentina|    15|     MF|    LANZINI Manuel|15.02.1993|      LANZINI|West Ham United F...|   167|  66|1993|\n",
            "|Argentina|    18|     DF|    SALVIO Eduardo|13.07.1990|       SALVIO|    SL Benfica (POR)|   167|  69|1990|\n",
            "|Argentina|    10|     FW|      MESSI Lionel|24.06.1987|        MESSI|  FC Barcelona (ESP)|   170|  72|1987|\n",
            "+---------+------+-------+------------------+----------+-------------+--------------------+------+----+----+\n",
            "only showing top 5 rows\n",
            "\n"
          ]
        }
      ],
      "source": [
        "df.show(5)"
      ]
    },
    {
      "cell_type": "code",
      "execution_count": null,
      "id": "9879e423",
      "metadata": {
        "id": "9879e423",
        "outputId": "f29069e4-cb6c-4227-ceae-b666d45b2655"
      },
      "outputs": [
        {
          "name": "stdout",
          "output_type": "stream",
          "text": [
            "root\n",
            " |-- Selecao: string (nullable = true)\n",
            " |-- Numero: integer (nullable = true)\n",
            " |-- Posicao: string (nullable = true)\n",
            " |-- Nome_FIFA: string (nullable = true)\n",
            " |-- Nascimento: string (nullable = true)\n",
            " |-- Nome Camiseta: string (nullable = true)\n",
            " |-- Time: string (nullable = true)\n",
            " |-- Altura: integer (nullable = true)\n",
            " |-- Peso: integer (nullable = true)\n",
            " |-- Ano: string (nullable = true)\n",
            "\n"
          ]
        }
      ],
      "source": [
        "df.printSchema()"
      ]
    },
    {
      "cell_type": "code",
      "execution_count": null,
      "id": "ae7392fc",
      "metadata": {
        "scrolled": true,
        "id": "ae7392fc"
      },
      "outputs": [],
      "source": [
        "df = df.withColumn('Ano', col('Ano').cast(IntegerType()))"
      ]
    },
    {
      "cell_type": "code",
      "execution_count": null,
      "id": "c8c60fbb",
      "metadata": {
        "id": "c8c60fbb",
        "outputId": "fb2f26c9-d2d0-448a-df2e-f0a1be3b6700"
      },
      "outputs": [
        {
          "name": "stdout",
          "output_type": "stream",
          "text": [
            "root\n",
            " |-- Selecao: string (nullable = true)\n",
            " |-- Numero: integer (nullable = true)\n",
            " |-- Posicao: string (nullable = true)\n",
            " |-- Nome_FIFA: string (nullable = true)\n",
            " |-- Nascimento: string (nullable = true)\n",
            " |-- Nome Camiseta: string (nullable = true)\n",
            " |-- Time: string (nullable = true)\n",
            " |-- Altura: integer (nullable = true)\n",
            " |-- Peso: integer (nullable = true)\n",
            " |-- Ano: integer (nullable = true)\n",
            "\n"
          ]
        }
      ],
      "source": [
        "df.printSchema()"
      ]
    },
    {
      "cell_type": "markdown",
      "id": "c2028bbd",
      "metadata": {
        "id": "c2028bbd"
      },
      "source": [
        "### Desafio: Coluna Nascimento\n",
        "\n",
        "- Colocar como DateType\n",
        "\n",
        "- Dica:\n",
        "- O Formato precisa estar em: YYYY-MM-DD"
      ]
    },
    {
      "cell_type": "code",
      "execution_count": null,
      "id": "797854f6",
      "metadata": {
        "id": "797854f6",
        "outputId": "b7320312-8740-481f-db8b-f4754ae18d26"
      },
      "outputs": [
        {
          "name": "stdout",
          "output_type": "stream",
          "text": [
            "+---------+------+-------+------------------+----------+-------------+--------------------+------+----+----+\n",
            "|  Selecao|Numero|Posicao|         Nome_FIFA|Nascimento|Nome Camiseta|                Time|Altura|Peso| Ano|\n",
            "+---------+------+-------+------------------+----------+-------------+--------------------+------+----+----+\n",
            "|Argentina|     3|     DF|TAGLIAFICO Nicolas|31.08.1992|   TAGLIAFICO|      AFC Ajax (NED)|   169|  65|1992|\n",
            "|Argentina|    22|     MF|    PAVON Cristian|21.01.1996|        PAVÓN|CA Boca Juniors (...|   169|  65|1996|\n",
            "|Argentina|    15|     MF|    LANZINI Manuel|15.02.1993|      LANZINI|West Ham United F...|   167|  66|1993|\n",
            "|Argentina|    18|     DF|    SALVIO Eduardo|13.07.1990|       SALVIO|    SL Benfica (POR)|   167|  69|1990|\n",
            "|Argentina|    10|     FW|      MESSI Lionel|24.06.1987|        MESSI|  FC Barcelona (ESP)|   170|  72|1987|\n",
            "+---------+------+-------+------------------+----------+-------------+--------------------+------+----+----+\n",
            "only showing top 5 rows\n",
            "\n"
          ]
        }
      ],
      "source": [
        "df.show(5)"
      ]
    },
    {
      "cell_type": "code",
      "execution_count": null,
      "id": "b1ef20e0",
      "metadata": {
        "id": "b1ef20e0"
      },
      "outputs": [],
      "source": [
        "dia = udf(lambda data: data.split('.')[0])"
      ]
    },
    {
      "cell_type": "code",
      "execution_count": null,
      "id": "84eca5f8",
      "metadata": {
        "id": "84eca5f8"
      },
      "outputs": [],
      "source": [
        "df = df.withColumn('Dia', dia('Nascimento'))"
      ]
    },
    {
      "cell_type": "code",
      "execution_count": null,
      "id": "2805fe80",
      "metadata": {
        "id": "2805fe80",
        "outputId": "5293fc7f-e582-4b7b-df93-159c2dbe369a"
      },
      "outputs": [
        {
          "name": "stdout",
          "output_type": "stream",
          "text": [
            "+---------+------+-------+------------------+----------+-------------+--------------------+------+----+----+---+\n",
            "|  Selecao|Numero|Posicao|         Nome_FIFA|Nascimento|Nome Camiseta|                Time|Altura|Peso| Ano|Dia|\n",
            "+---------+------+-------+------------------+----------+-------------+--------------------+------+----+----+---+\n",
            "|Argentina|     3|     DF|TAGLIAFICO Nicolas|31.08.1992|   TAGLIAFICO|      AFC Ajax (NED)|   169|  65|1992| 31|\n",
            "|Argentina|    22|     MF|    PAVON Cristian|21.01.1996|        PAVÓN|CA Boca Juniors (...|   169|  65|1996| 21|\n",
            "|Argentina|    15|     MF|    LANZINI Manuel|15.02.1993|      LANZINI|West Ham United F...|   167|  66|1993| 15|\n",
            "|Argentina|    18|     DF|    SALVIO Eduardo|13.07.1990|       SALVIO|    SL Benfica (POR)|   167|  69|1990| 13|\n",
            "|Argentina|    10|     FW|      MESSI Lionel|24.06.1987|        MESSI|  FC Barcelona (ESP)|   170|  72|1987| 24|\n",
            "+---------+------+-------+------------------+----------+-------------+--------------------+------+----+----+---+\n",
            "only showing top 5 rows\n",
            "\n"
          ]
        }
      ],
      "source": [
        "df.show(5)"
      ]
    },
    {
      "cell_type": "code",
      "execution_count": null,
      "id": "1b68ff5f",
      "metadata": {
        "id": "1b68ff5f",
        "outputId": "8d0641ba-b043-4bd5-eda1-32569c3f6b9a"
      },
      "outputs": [
        {
          "name": "stdout",
          "output_type": "stream",
          "text": [
            "+---------+------+-------+------------------+----------+-------------+--------------------+------+----+----+---+---+\n",
            "|  Selecao|Numero|Posicao|         Nome_FIFA|Nascimento|Nome Camiseta|                Time|Altura|Peso| Ano|Dia|Mes|\n",
            "+---------+------+-------+------------------+----------+-------------+--------------------+------+----+----+---+---+\n",
            "|Argentina|     3|     DF|TAGLIAFICO Nicolas|31.08.1992|   TAGLIAFICO|      AFC Ajax (NED)|   169|  65|1992| 31| 08|\n",
            "|Argentina|    22|     MF|    PAVON Cristian|21.01.1996|        PAVÓN|CA Boca Juniors (...|   169|  65|1996| 21| 01|\n",
            "|Argentina|    15|     MF|    LANZINI Manuel|15.02.1993|      LANZINI|West Ham United F...|   167|  66|1993| 15| 02|\n",
            "|Argentina|    18|     DF|    SALVIO Eduardo|13.07.1990|       SALVIO|    SL Benfica (POR)|   167|  69|1990| 13| 07|\n",
            "|Argentina|    10|     FW|      MESSI Lionel|24.06.1987|        MESSI|  FC Barcelona (ESP)|   170|  72|1987| 24| 06|\n",
            "|Argentina|     4|     DF|  ANSALDI Cristian|20.09.1986|      ANSALDI|     Torino FC (ITA)|   181|  73|1986| 20| 09|\n",
            "|Argentina|     5|     MF|      BIGLIA Lucas|30.01.1986|       BIGLIA|      AC Milan (ITA)|   175|  73|1986| 30| 01|\n",
            "|Argentina|     7|     MF|       BANEGA Ever|29.06.1988|       BANEGA|    Sevilla FC (ESP)|   175|  73|1988| 29| 06|\n",
            "|Argentina|    14|     DF| MASCHERANO Javier|08.06.1984|   MASCHERANO|Hebei China Fortu...|   174|  73|1984| 08| 06|\n",
            "|Argentina|    21|     FW|      DYBALA Paulo|15.11.1993|       DYBALA|   Juventus FC (ITA)|   177|  73|1993| 15| 11|\n",
            "|Argentina|    19|     FW|     AGUERO Sergio|02.06.1988|       AGÜERO|Manchester City F...|   172|  74|1988| 02| 06|\n",
            "|Argentina|     9|     FW|   HIGUAIN Gonzalo|10.12.1987|      HIGUAÍN|   Juventus FC (ITA)|   184|  75|1987| 10| 12|\n",
            "|Argentina|    11|     MF|    DI MARIA Angel|14.02.1988|     DI MARÍA|Paris Saint-Germa...|   178|  75|1988| 14| 02|\n",
            "|Argentina|    20|     MF|  LO CELSO Giovani|09.04.1996|     LO CELSO|Paris Saint-Germa...|   177|  75|1996| 09| 04|\n",
            "|Argentina|    13|     MF|  MEZA Maximiliano|15.12.1992|         MEZA|CA Independiente ...|   180|  76|1992| 15| 12|\n",
            "|Argentina|     8|     DF|      ACUNA Marcos|28.10.1991|        ACUÑA|   Sporting CP (POR)|   172|  77|1991| 28| 10|\n",
            "|Argentina|    23|     GK|CABALLERO Wilfredo|28.09.1981|    CABALLERO|    Chelsea FC (ENG)|   186|  80|1981| 28| 09|\n",
            "|Argentina|     2|     DF|   MERCADO Gabriel|18.03.1987|      MERCADO|    Sevilla FC (ESP)|   181|  81|1987| 18| 03|\n",
            "|Argentina|    17|     DF|  OTAMENDI Nicolas|12.02.1988|     OTAMENDI|Manchester City F...|   181|  81|1988| 12| 02|\n",
            "|Argentina|    16|     DF|       ROJO Marcos|20.03.1990|         ROJO|Manchester United...|   189|  82|1990| 20| 03|\n",
            "+---------+------+-------+------------------+----------+-------------+--------------------+------+----+----+---+---+\n",
            "only showing top 20 rows\n",
            "\n"
          ]
        }
      ],
      "source": [
        "mes = udf(lambda data: data.split('.')[1])\n",
        "\n",
        "df.withColumn('Mes', mes('Nascimento')).show()"
      ]
    },
    {
      "cell_type": "code",
      "execution_count": null,
      "id": "b21c398e",
      "metadata": {
        "id": "b21c398e",
        "outputId": "8267f44a-46fc-4f1e-897a-c15e8ceafbb6"
      },
      "outputs": [
        {
          "name": "stdout",
          "output_type": "stream",
          "text": [
            "+---------+------+-------+------------------+----------+-------------+--------------------+------+----+----+---+---+\n",
            "|  Selecao|Numero|Posicao|         Nome_FIFA|Nascimento|Nome Camiseta|                Time|Altura|Peso| Ano|Dia|Mes|\n",
            "+---------+------+-------+------------------+----------+-------------+--------------------+------+----+----+---+---+\n",
            "|Argentina|     3|     DF|TAGLIAFICO Nicolas|31.08.1992|   TAGLIAFICO|      AFC Ajax (NED)|   169|  65|1992| 31| 08|\n",
            "|Argentina|    22|     MF|    PAVON Cristian|21.01.1996|        PAVÓN|CA Boca Juniors (...|   169|  65|1996| 21| 01|\n",
            "|Argentina|    15|     MF|    LANZINI Manuel|15.02.1993|      LANZINI|West Ham United F...|   167|  66|1993| 15| 02|\n",
            "|Argentina|    18|     DF|    SALVIO Eduardo|13.07.1990|       SALVIO|    SL Benfica (POR)|   167|  69|1990| 13| 07|\n",
            "|Argentina|    10|     FW|      MESSI Lionel|24.06.1987|        MESSI|  FC Barcelona (ESP)|   170|  72|1987| 24| 06|\n",
            "|Argentina|     4|     DF|  ANSALDI Cristian|20.09.1986|      ANSALDI|     Torino FC (ITA)|   181|  73|1986| 20| 09|\n",
            "|Argentina|     5|     MF|      BIGLIA Lucas|30.01.1986|       BIGLIA|      AC Milan (ITA)|   175|  73|1986| 30| 01|\n",
            "|Argentina|     7|     MF|       BANEGA Ever|29.06.1988|       BANEGA|    Sevilla FC (ESP)|   175|  73|1988| 29| 06|\n",
            "|Argentina|    14|     DF| MASCHERANO Javier|08.06.1984|   MASCHERANO|Hebei China Fortu...|   174|  73|1984| 08| 06|\n",
            "|Argentina|    21|     FW|      DYBALA Paulo|15.11.1993|       DYBALA|   Juventus FC (ITA)|   177|  73|1993| 15| 11|\n",
            "|Argentina|    19|     FW|     AGUERO Sergio|02.06.1988|       AGÜERO|Manchester City F...|   172|  74|1988| 02| 06|\n",
            "|Argentina|     9|     FW|   HIGUAIN Gonzalo|10.12.1987|      HIGUAÍN|   Juventus FC (ITA)|   184|  75|1987| 10| 12|\n",
            "|Argentina|    11|     MF|    DI MARIA Angel|14.02.1988|     DI MARÍA|Paris Saint-Germa...|   178|  75|1988| 14| 02|\n",
            "|Argentina|    20|     MF|  LO CELSO Giovani|09.04.1996|     LO CELSO|Paris Saint-Germa...|   177|  75|1996| 09| 04|\n",
            "|Argentina|    13|     MF|  MEZA Maximiliano|15.12.1992|         MEZA|CA Independiente ...|   180|  76|1992| 15| 12|\n",
            "|Argentina|     8|     DF|      ACUNA Marcos|28.10.1991|        ACUÑA|   Sporting CP (POR)|   172|  77|1991| 28| 10|\n",
            "|Argentina|    23|     GK|CABALLERO Wilfredo|28.09.1981|    CABALLERO|    Chelsea FC (ENG)|   186|  80|1981| 28| 09|\n",
            "|Argentina|     2|     DF|   MERCADO Gabriel|18.03.1987|      MERCADO|    Sevilla FC (ESP)|   181|  81|1987| 18| 03|\n",
            "|Argentina|    17|     DF|  OTAMENDI Nicolas|12.02.1988|     OTAMENDI|Manchester City F...|   181|  81|1988| 12| 02|\n",
            "|Argentina|    16|     DF|       ROJO Marcos|20.03.1990|         ROJO|Manchester United...|   189|  82|1990| 20| 03|\n",
            "+---------+------+-------+------------------+----------+-------------+--------------------+------+----+----+---+---+\n",
            "only showing top 20 rows\n",
            "\n"
          ]
        }
      ],
      "source": [
        "df = df.withColumn('Mes', mes('Nascimento'))\n",
        "\n",
        "df.show()"
      ]
    },
    {
      "cell_type": "code",
      "execution_count": null,
      "id": "bae2063d",
      "metadata": {
        "id": "bae2063d",
        "outputId": "53134596-5e8b-459b-c242-ccbd72888e89"
      },
      "outputs": [
        {
          "name": "stdout",
          "output_type": "stream",
          "text": [
            "root\n",
            " |-- Selecao: string (nullable = true)\n",
            " |-- Numero: integer (nullable = true)\n",
            " |-- Posicao: string (nullable = true)\n",
            " |-- Nome_FIFA: string (nullable = true)\n",
            " |-- Nascimento: string (nullable = true)\n",
            " |-- Nome Camiseta: string (nullable = true)\n",
            " |-- Time: string (nullable = true)\n",
            " |-- Altura: integer (nullable = true)\n",
            " |-- Peso: integer (nullable = true)\n",
            " |-- Ano: integer (nullable = true)\n",
            " |-- Dia: string (nullable = true)\n",
            " |-- Mes: string (nullable = true)\n",
            "\n"
          ]
        }
      ],
      "source": [
        "df.printSchema()"
      ]
    },
    {
      "cell_type": "code",
      "execution_count": null,
      "id": "1403d047",
      "metadata": {
        "id": "1403d047"
      },
      "outputs": [],
      "source": [
        "df = df.withColumn('Data_Nascimento', concat_ws('-', 'Dia', 'Mes', 'Ano'))"
      ]
    },
    {
      "cell_type": "code",
      "execution_count": null,
      "id": "59e0643d",
      "metadata": {
        "id": "59e0643d",
        "outputId": "19faff2f-4208-4c47-b180-f761ed2e5dce"
      },
      "outputs": [
        {
          "name": "stdout",
          "output_type": "stream",
          "text": [
            "+---------+------+-------+------------------+----------+-------------+--------------------+------+----+----+---+---+---------------+\n",
            "|  Selecao|Numero|Posicao|         Nome_FIFA|Nascimento|Nome Camiseta|                Time|Altura|Peso| Ano|Dia|Mes|Data_Nascimento|\n",
            "+---------+------+-------+------------------+----------+-------------+--------------------+------+----+----+---+---+---------------+\n",
            "|Argentina|     3|     DF|TAGLIAFICO Nicolas|31.08.1992|   TAGLIAFICO|      AFC Ajax (NED)|   169|  65|1992| 31| 08|           null|\n",
            "|Argentina|    22|     MF|    PAVON Cristian|21.01.1996|        PAVÓN|CA Boca Juniors (...|   169|  65|1996| 21| 01|           null|\n",
            "|Argentina|    15|     MF|    LANZINI Manuel|15.02.1993|      LANZINI|West Ham United F...|   167|  66|1993| 15| 02|           null|\n",
            "|Argentina|    18|     DF|    SALVIO Eduardo|13.07.1990|       SALVIO|    SL Benfica (POR)|   167|  69|1990| 13| 07|           null|\n",
            "|Argentina|    10|     FW|      MESSI Lionel|24.06.1987|        MESSI|  FC Barcelona (ESP)|   170|  72|1987| 24| 06|           null|\n",
            "|Argentina|     4|     DF|  ANSALDI Cristian|20.09.1986|      ANSALDI|     Torino FC (ITA)|   181|  73|1986| 20| 09|           null|\n",
            "|Argentina|     5|     MF|      BIGLIA Lucas|30.01.1986|       BIGLIA|      AC Milan (ITA)|   175|  73|1986| 30| 01|           null|\n",
            "|Argentina|     7|     MF|       BANEGA Ever|29.06.1988|       BANEGA|    Sevilla FC (ESP)|   175|  73|1988| 29| 06|           null|\n",
            "|Argentina|    14|     DF| MASCHERANO Javier|08.06.1984|   MASCHERANO|Hebei China Fortu...|   174|  73|1984| 08| 06|           null|\n",
            "|Argentina|    21|     FW|      DYBALA Paulo|15.11.1993|       DYBALA|   Juventus FC (ITA)|   177|  73|1993| 15| 11|           null|\n",
            "|Argentina|    19|     FW|     AGUERO Sergio|02.06.1988|       AGÜERO|Manchester City F...|   172|  74|1988| 02| 06|           null|\n",
            "|Argentina|     9|     FW|   HIGUAIN Gonzalo|10.12.1987|      HIGUAÍN|   Juventus FC (ITA)|   184|  75|1987| 10| 12|           null|\n",
            "|Argentina|    11|     MF|    DI MARIA Angel|14.02.1988|     DI MARÍA|Paris Saint-Germa...|   178|  75|1988| 14| 02|           null|\n",
            "|Argentina|    20|     MF|  LO CELSO Giovani|09.04.1996|     LO CELSO|Paris Saint-Germa...|   177|  75|1996| 09| 04|           null|\n",
            "|Argentina|    13|     MF|  MEZA Maximiliano|15.12.1992|         MEZA|CA Independiente ...|   180|  76|1992| 15| 12|           null|\n",
            "|Argentina|     8|     DF|      ACUNA Marcos|28.10.1991|        ACUÑA|   Sporting CP (POR)|   172|  77|1991| 28| 10|           null|\n",
            "|Argentina|    23|     GK|CABALLERO Wilfredo|28.09.1981|    CABALLERO|    Chelsea FC (ENG)|   186|  80|1981| 28| 09|           null|\n",
            "|Argentina|     2|     DF|   MERCADO Gabriel|18.03.1987|      MERCADO|    Sevilla FC (ESP)|   181|  81|1987| 18| 03|           null|\n",
            "|Argentina|    17|     DF|  OTAMENDI Nicolas|12.02.1988|     OTAMENDI|Manchester City F...|   181|  81|1988| 12| 02|           null|\n",
            "|Argentina|    16|     DF|       ROJO Marcos|20.03.1990|         ROJO|Manchester United...|   189|  82|1990| 20| 03|           null|\n",
            "+---------+------+-------+------------------+----------+-------------+--------------------+------+----+----+---+---+---------------+\n",
            "only showing top 20 rows\n",
            "\n"
          ]
        }
      ],
      "source": [
        "df.withColumn('Data_Nascimento', col('Data_Nascimento').cast(DateType())).show()"
      ]
    },
    {
      "cell_type": "code",
      "execution_count": null,
      "id": "c7b7b117",
      "metadata": {
        "id": "c7b7b117"
      },
      "outputs": [],
      "source": [
        "df = df.withColumn('Data_Nascimento', concat_ws('-', 'Ano', 'Mes', 'Dia'))"
      ]
    },
    {
      "cell_type": "code",
      "execution_count": null,
      "id": "63d80b6a",
      "metadata": {
        "scrolled": true,
        "id": "63d80b6a",
        "outputId": "722947d4-3230-4412-c907-04299fab5659"
      },
      "outputs": [
        {
          "name": "stdout",
          "output_type": "stream",
          "text": [
            "+---------+------+-------+------------------+----------+-------------+--------------------+------+----+----+---+---+---------------+\n",
            "|  Selecao|Numero|Posicao|         Nome_FIFA|Nascimento|Nome Camiseta|                Time|Altura|Peso| Ano|Dia|Mes|Data_Nascimento|\n",
            "+---------+------+-------+------------------+----------+-------------+--------------------+------+----+----+---+---+---------------+\n",
            "|Argentina|     3|     DF|TAGLIAFICO Nicolas|31.08.1992|   TAGLIAFICO|      AFC Ajax (NED)|   169|  65|1992| 31| 08|     1992-08-31|\n",
            "|Argentina|    22|     MF|    PAVON Cristian|21.01.1996|        PAVÓN|CA Boca Juniors (...|   169|  65|1996| 21| 01|     1996-01-21|\n",
            "|Argentina|    15|     MF|    LANZINI Manuel|15.02.1993|      LANZINI|West Ham United F...|   167|  66|1993| 15| 02|     1993-02-15|\n",
            "|Argentina|    18|     DF|    SALVIO Eduardo|13.07.1990|       SALVIO|    SL Benfica (POR)|   167|  69|1990| 13| 07|     1990-07-13|\n",
            "|Argentina|    10|     FW|      MESSI Lionel|24.06.1987|        MESSI|  FC Barcelona (ESP)|   170|  72|1987| 24| 06|     1987-06-24|\n",
            "|Argentina|     4|     DF|  ANSALDI Cristian|20.09.1986|      ANSALDI|     Torino FC (ITA)|   181|  73|1986| 20| 09|     1986-09-20|\n",
            "|Argentina|     5|     MF|      BIGLIA Lucas|30.01.1986|       BIGLIA|      AC Milan (ITA)|   175|  73|1986| 30| 01|     1986-01-30|\n",
            "|Argentina|     7|     MF|       BANEGA Ever|29.06.1988|       BANEGA|    Sevilla FC (ESP)|   175|  73|1988| 29| 06|     1988-06-29|\n",
            "|Argentina|    14|     DF| MASCHERANO Javier|08.06.1984|   MASCHERANO|Hebei China Fortu...|   174|  73|1984| 08| 06|     1984-06-08|\n",
            "|Argentina|    21|     FW|      DYBALA Paulo|15.11.1993|       DYBALA|   Juventus FC (ITA)|   177|  73|1993| 15| 11|     1993-11-15|\n",
            "|Argentina|    19|     FW|     AGUERO Sergio|02.06.1988|       AGÜERO|Manchester City F...|   172|  74|1988| 02| 06|     1988-06-02|\n",
            "|Argentina|     9|     FW|   HIGUAIN Gonzalo|10.12.1987|      HIGUAÍN|   Juventus FC (ITA)|   184|  75|1987| 10| 12|     1987-12-10|\n",
            "|Argentina|    11|     MF|    DI MARIA Angel|14.02.1988|     DI MARÍA|Paris Saint-Germa...|   178|  75|1988| 14| 02|     1988-02-14|\n",
            "|Argentina|    20|     MF|  LO CELSO Giovani|09.04.1996|     LO CELSO|Paris Saint-Germa...|   177|  75|1996| 09| 04|     1996-04-09|\n",
            "|Argentina|    13|     MF|  MEZA Maximiliano|15.12.1992|         MEZA|CA Independiente ...|   180|  76|1992| 15| 12|     1992-12-15|\n",
            "|Argentina|     8|     DF|      ACUNA Marcos|28.10.1991|        ACUÑA|   Sporting CP (POR)|   172|  77|1991| 28| 10|     1991-10-28|\n",
            "|Argentina|    23|     GK|CABALLERO Wilfredo|28.09.1981|    CABALLERO|    Chelsea FC (ENG)|   186|  80|1981| 28| 09|     1981-09-28|\n",
            "|Argentina|     2|     DF|   MERCADO Gabriel|18.03.1987|      MERCADO|    Sevilla FC (ESP)|   181|  81|1987| 18| 03|     1987-03-18|\n",
            "|Argentina|    17|     DF|  OTAMENDI Nicolas|12.02.1988|     OTAMENDI|Manchester City F...|   181|  81|1988| 12| 02|     1988-02-12|\n",
            "|Argentina|    16|     DF|       ROJO Marcos|20.03.1990|         ROJO|Manchester United...|   189|  82|1990| 20| 03|     1990-03-20|\n",
            "+---------+------+-------+------------------+----------+-------------+--------------------+------+----+----+---+---+---------------+\n",
            "only showing top 20 rows\n",
            "\n"
          ]
        }
      ],
      "source": [
        "df.show(5)"
      ]
    },
    {
      "cell_type": "code",
      "execution_count": null,
      "id": "196c8acd",
      "metadata": {
        "id": "196c8acd",
        "outputId": "e8bf5a12-7495-40c7-99fa-48f58797f45e"
      },
      "outputs": [
        {
          "name": "stdout",
          "output_type": "stream",
          "text": [
            "root\n",
            " |-- Selecao: string (nullable = true)\n",
            " |-- Numero: integer (nullable = true)\n",
            " |-- Posicao: string (nullable = true)\n",
            " |-- Nome_FIFA: string (nullable = true)\n",
            " |-- Nascimento: string (nullable = true)\n",
            " |-- Nome Camiseta: string (nullable = true)\n",
            " |-- Time: string (nullable = true)\n",
            " |-- Altura: integer (nullable = true)\n",
            " |-- Peso: integer (nullable = true)\n",
            " |-- Ano: integer (nullable = true)\n",
            " |-- Dia: string (nullable = true)\n",
            " |-- Mes: string (nullable = true)\n",
            " |-- Data_Nascimento: string (nullable = false)\n",
            "\n"
          ]
        }
      ],
      "source": [
        "df.printSchema()"
      ]
    },
    {
      "cell_type": "code",
      "execution_count": null,
      "id": "81aa9d34",
      "metadata": {
        "id": "81aa9d34"
      },
      "outputs": [],
      "source": [
        "df = df.withColumn('Data_Nascimento', col('Data_Nascimento').cast(DateType()))"
      ]
    },
    {
      "cell_type": "code",
      "execution_count": null,
      "id": "4b7ac441",
      "metadata": {
        "id": "4b7ac441",
        "outputId": "b0bd80bd-7c83-4393-c445-0bdcf8d237dc"
      },
      "outputs": [
        {
          "name": "stdout",
          "output_type": "stream",
          "text": [
            "root\n",
            " |-- Selecao: string (nullable = true)\n",
            " |-- Numero: integer (nullable = true)\n",
            " |-- Posicao: string (nullable = true)\n",
            " |-- Nome_FIFA: string (nullable = true)\n",
            " |-- Nascimento: string (nullable = true)\n",
            " |-- Nome Camiseta: string (nullable = true)\n",
            " |-- Time: string (nullable = true)\n",
            " |-- Altura: integer (nullable = true)\n",
            " |-- Peso: integer (nullable = true)\n",
            " |-- Ano: integer (nullable = true)\n",
            " |-- Dia: string (nullable = true)\n",
            " |-- Mes: string (nullable = true)\n",
            " |-- Data_Nascimento: date (nullable = true)\n",
            "\n"
          ]
        }
      ],
      "source": [
        "df.printSchema()"
      ]
    },
    {
      "cell_type": "code",
      "execution_count": null,
      "id": "98be3cdd",
      "metadata": {
        "id": "98be3cdd"
      },
      "outputs": [],
      "source": [
        ""
      ]
    }
  ],
  "metadata": {
    "kernelspec": {
      "display_name": "Python 3 (ipykernel)",
      "language": "python",
      "name": "python3"
    },
    "language_info": {
      "codemirror_mode": {
        "name": "ipython",
        "version": 3
      },
      "file_extension": ".py",
      "mimetype": "text/x-python",
      "name": "python",
      "nbconvert_exporter": "python",
      "pygments_lexer": "ipython3",
      "version": "3.9.7"
    },
    "colab": {
      "name": "PySpark 01.ipynb",
      "provenance": []
    }
  },
  "nbformat": 4,
  "nbformat_minor": 5
}